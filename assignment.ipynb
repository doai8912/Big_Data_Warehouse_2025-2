{
 "cells": [
  {
   "cell_type": "code",
   "execution_count": null,
   "id": "11ad175a-9f29-41d1-927e-79ac21f0423e",
   "metadata": {},
   "outputs": [],
   "source": [
    "#(1) 아래 코드를 확인하여 알맞는 출력값을 작성하시오. <2025년 1>\n",
    "class Node:\n",
    "    def __init__(self, value):\n",
    "        self.value = value\n",
    "        self.children = []\n",
    " \n",
    "def tree(li):\n",
    "    nodes = [Node(i) for i in li]\n",
    "    for i in range(1, len(li)):\n",
    "        nodes[(i - 1) // 2].children.append(nodes[i])\n",
    "    return nodes[0]\n",
    " \n",
    "def calc(node, level=0):\n",
    "    if node is None:\n",
    "        return 0\n",
    "    return (node.value if level % 2 == 1 else 0) + sum(calc(n, level + 1) for n in node.children)\n",
    " \n",
    "li = [3, 5, 8, 12, 15, 18, 21]\n",
    " \n",
    "root = tree(li)\n",
    " \n",
    "print(calc(root)) \n"
   ]
  },
  {
   "cell_type": "code",
   "execution_count": null,
   "id": "cf65ed51-8208-4081-95a2-124d572f3dc5",
   "metadata": {},
   "outputs": [],
   "source": [
    "#(2) 다음 파이썬 코드 대한 알맞는 출력값을 작성하시오. <2024년 1회>\n",
    "a = [\"Seoul\", \"Kyeonggi\", \"Incheon\", \"Daejun\", \"Daegu\", \"Pusan\"] \n",
    "str = \"S\"\n",
    " \n",
    "for i in a:\n",
    "    str = str + i[1]\n",
    " \n",
    "print(str)"
   ]
  },
  {
   "cell_type": "code",
   "execution_count": 1,
   "id": "dc3ddf80-8692-4f9c-ab9e-b0dedb6b827a",
   "metadata": {},
   "outputs": [
    {
     "name": "stdout",
     "output_type": "stream",
     "text": [
      "ab3ca3\n"
     ]
    }
   ],
   "source": [
    "#(3) 아래 코드를 읽고 알맞는 출력값을 작성하시오. <2024년 2회>\n",
    "def fnCalculation(x,y):\n",
    "    result = 0;\n",
    "    for i in range(len(x)):\n",
    "     temp = x[i:i+len(y)] \n",
    "     if temp == y:\n",
    "       result += 1;\n",
    "    return result\n",
    " \n",
    "a = \"abdcabcabca\"\n",
    "p1 = \"ab\";\n",
    "p2 = \"ca\";\n",
    " \n",
    "out = f\"ab{fnCalculation(a,p1)}ca{fnCalculation(a,p2)}\"\n",
    "print(out)\n"
   ]
  },
  {
   "cell_type": "code",
   "execution_count": 2,
   "id": "e7c4461b-89b4-4ffc-a2e1-f23dbca89f31",
   "metadata": {},
   "outputs": [
    {
     "name": "stdout",
     "output_type": "stream",
     "text": [
      "3\n"
     ]
    }
   ],
   "source": [
    "#(4) 아래 코드를 확인하여 알맞는 출력값을 작성하시오. <2024년 3회>\n",
    "def func(lst):\n",
    "  for i in range(len(lst) //2):\n",
    "    lst[i], lst[-i-1] = lst[-i-1], lst[i]\n",
    " \n",
    "lst = [1,2,3,4,5,6] \n",
    "func(lst)\n",
    "print(sum(lst[::2]) - sum(lst[1::2]))"
   ]
  },
  {
   "cell_type": "code",
   "execution_count": 3,
   "id": "d9c204ea-df6c-4ce1-abd6-802cd96296e1",
   "metadata": {},
   "outputs": [
    {
     "name": "stdout",
     "output_type": "stream",
     "text": [
      "45\n"
     ]
    }
   ],
   "source": [
    "#(5) 아래 코드를 확인하여 알맞는 출력값을 작성하시오. <2024년 3회>\n",
    "def func(value):\n",
    "    if type(value) == type(100):\n",
    "        return 100\n",
    "    elif type(value) == type(\"\"):\n",
    "        return len(value) \n",
    "    else:\n",
    "        return 20\n",
    " \n",
    " \n",
    "a = '100.0'\n",
    "b = 100.0\n",
    "c = (100, 200)\n",
    " \n",
    "print(func(a) + func(b) + func(c))"
   ]
  },
  {
   "cell_type": "code",
   "execution_count": 4,
   "id": "4cb294b0-0a25-4df9-997c-eb7a779f0996",
   "metadata": {},
   "outputs": [
    {
     "name": "stdin",
     "output_type": "stream",
     "text": [
      " Python programming\n"
     ]
    },
    {
     "name": "stdout",
     "output_type": "stream",
     "text": [
      "Pto*gra\n"
     ]
    }
   ],
   "source": []
  },
  {
   "cell_type": "code",
   "execution_count": null,
   "id": "a3758568-0fd5-4d6a-a162-c7ba6b8a57d4",
   "metadata": {},
   "outputs": [],
   "source": []
  },
  {
   "cell_type": "code",
   "execution_count": null,
   "id": "5890c65d-69a8-4925-b4d7-ca934d1241ae",
   "metadata": {},
   "outputs": [],
   "source": []
  },
  {
   "cell_type": "code",
   "execution_count": null,
   "id": "3ae7f5ea-479d-4598-aef8-a7dc2010affe",
   "metadata": {},
   "outputs": [],
   "source": []
  },
  {
   "cell_type": "code",
   "execution_count": null,
   "id": "c6be6662-9e46-4662-b9a2-cd1e2d9fe074",
   "metadata": {},
   "outputs": [],
   "source": []
  },
  {
   "cell_type": "code",
   "execution_count": null,
   "id": "eaae6311-2c69-440a-8b8f-6ec687f32864",
   "metadata": {},
   "outputs": [],
   "source": []
  },
  {
   "cell_type": "code",
   "execution_count": null,
   "id": "42e7a517-c85d-4321-ab71-5139fe3f75ab",
   "metadata": {},
   "outputs": [],
   "source": []
  },
  {
   "cell_type": "code",
   "execution_count": null,
   "id": "4a79121e-a853-4ecf-83fc-0e2b08fcc3e8",
   "metadata": {},
   "outputs": [],
   "source": []
  },
  {
   "cell_type": "code",
   "execution_count": null,
   "id": "05781887-5982-4959-9e3c-f6123502fa00",
   "metadata": {},
   "outputs": [],
   "source": []
  },
  {
   "cell_type": "code",
   "execution_count": null,
   "id": "c1f0c84e-3d43-4d20-b29f-36d11306b7ba",
   "metadata": {},
   "outputs": [],
   "source": []
  },
  {
   "cell_type": "code",
   "execution_count": null,
   "id": "902488a2-6384-408b-9e67-87a1c94e5d2c",
   "metadata": {},
   "outputs": [],
   "source": []
  },
  {
   "cell_type": "code",
   "execution_count": null,
   "id": "e04b3b52-17fb-44fd-9f60-72e2f533edfd",
   "metadata": {},
   "outputs": [],
   "source": []
  }
 ],
 "metadata": {
  "kernelspec": {
   "display_name": "Python [conda env:base] *",
   "language": "python",
   "name": "conda-base-py"
  },
  "language_info": {
   "codemirror_mode": {
    "name": "ipython",
    "version": 3
   },
   "file_extension": ".py",
   "mimetype": "text/x-python",
   "name": "python",
   "nbconvert_exporter": "python",
   "pygments_lexer": "ipython3",
   "version": "3.13.5"
  }
 },
 "nbformat": 4,
 "nbformat_minor": 5
}
